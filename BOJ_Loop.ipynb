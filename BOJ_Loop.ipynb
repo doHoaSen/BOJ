{
 "cells": [
  {
   "cell_type": "markdown",
   "id": "2221e43c",
   "metadata": {},
   "source": [
    "# 2022.03.28"
   ]
  },
  {
   "cell_type": "code",
   "execution_count": 1,
   "id": "1c1085c5",
   "metadata": {},
   "outputs": [
    {
     "name": "stdout",
     "output_type": "stream",
     "text": [
      "5\n",
      "1\n",
      "2\n",
      "3\n",
      "4\n",
      "5\n"
     ]
    }
   ],
   "source": [
    "# 2741\n",
    "num = int(input())\n",
    "for i in range(1, num+1):\n",
    "    print(i)"
   ]
  },
  {
   "cell_type": "code",
   "execution_count": 4,
   "id": "f6277415",
   "metadata": {},
   "outputs": [
    {
     "name": "stdout",
     "output_type": "stream",
     "text": [
      "5\n",
      "5\n",
      "4\n",
      "3\n",
      "2\n",
      "1\n"
     ]
    }
   ],
   "source": [
    "# 2742\n",
    "num = int(input())\n",
    "for i in range(num, 0, -1):\n",
    "    print(i)"
   ]
  },
  {
   "cell_type": "code",
   "execution_count": 5,
   "id": "43328e8b",
   "metadata": {},
   "outputs": [
    {
     "name": "stdout",
     "output_type": "stream",
     "text": [
      "5\n",
      "1 1\n",
      "Case #1: 2\n",
      "2 3\n",
      "Case #2: 5\n",
      "3 4\n",
      "Case #3: 7\n",
      "9 8\n",
      "Case #4: 17\n",
      "5 2\n",
      "Case #5: 7\n"
     ]
    }
   ],
   "source": [
    "# 11021\n",
    "case = int(input())\n",
    "for i in range(1, case+1):\n",
    "    num1, num2 = map(int, input().split())\n",
    "    result = num1 + num2\n",
    "    print(f\"Case #{i}: {result}\")"
   ]
  },
  {
   "cell_type": "code",
   "execution_count": 6,
   "id": "d887bd3c",
   "metadata": {},
   "outputs": [
    {
     "name": "stdout",
     "output_type": "stream",
     "text": [
      "5\n",
      "1 1\n",
      "Case #1: 1 + 1 = 2\n",
      "2 3\n",
      "Case #2: 2 + 3 = 5\n",
      "3 4\n",
      "Case #3: 3 + 4 = 7\n",
      "9 8\n",
      "Case #4: 9 + 8 = 17\n",
      "5 2\n",
      "Case #5: 5 + 2 = 7\n"
     ]
    }
   ],
   "source": [
    "# 11022\n",
    "case = int(input())\n",
    "for i in range(1, case+1):\n",
    "    num1, num2 = map(int, input().split())\n",
    "    result = num1 + num2\n",
    "    print(f\"Case #{i}: {num1} + {num2} = {result}\")"
   ]
  },
  {
   "cell_type": "code",
   "execution_count": 7,
   "id": "322984e5",
   "metadata": {},
   "outputs": [
    {
     "name": "stdout",
     "output_type": "stream",
     "text": [
      "10 5\n",
      "1 10 4 9 2 3 8 5 7 6\n",
      "1 4 2 3 "
     ]
    }
   ],
   "source": [
    "# 10871\n",
    "N, X = map(int, input().split())\n",
    "A = list(map(int, input().split()))\n",
    "for num in A:\n",
    "    if num < X:\n",
    "        print(num, end=\" \")"
   ]
  },
  {
   "cell_type": "markdown",
   "id": "f4b1d5c2",
   "metadata": {},
   "source": [
    " # 2022.03.31"
   ]
  },
  {
   "cell_type": "code",
   "execution_count": 8,
   "id": "a263b392",
   "metadata": {},
   "outputs": [
    {
     "name": "stdout",
     "output_type": "stream",
     "text": [
      "26\n",
      "4\n"
     ]
    }
   ],
   "source": [
    "#1110\n",
    "first_num = input()\n",
    "second_num = first_num\n",
    "cycle = 0\n",
    "\n",
    "while True:\n",
    "    new_num = int(second_num[0]) + int(second_num[-1])\n",
    "    second_num = second_num[-1] + str(new_num)[-1]\n",
    "    cycle += 1 \n",
    "\n",
    "    if first_num == second_num:\n",
    "        break\n",
    "\n",
    "print(cycle)"
   ]
  },
  {
   "cell_type": "code",
   "execution_count": 11,
   "id": "7569fc9a",
   "metadata": {},
   "outputs": [
    {
     "name": "stdout",
     "output_type": "stream",
     "text": [
      "26\n",
      "4\n"
     ]
    }
   ],
   "source": [
    "#1110 another solution\n",
    "first_num = int(input())\n",
    "second_num = first_num\n",
    "cycle = 0\n",
    "\n",
    "while True:\n",
    "    new_num = second_num // 10 + second_num % 10    #십의 자리와 일의 자리 합\n",
    "    second_num = (second_num % 10) * 10 + new_num % 10\n",
    "    cycle += 1 \n",
    "\n",
    "    if first_num == second_num:\n",
    "        break\n",
    "\n",
    "print(cycle)"
   ]
  },
  {
   "cell_type": "code",
   "execution_count": null,
   "id": "f653511b",
   "metadata": {},
   "outputs": [],
   "source": []
  }
 ],
 "metadata": {
  "kernelspec": {
   "display_name": "Python 3",
   "language": "python",
   "name": "python3"
  },
  "language_info": {
   "codemirror_mode": {
    "name": "ipython",
    "version": 3
   },
   "file_extension": ".py",
   "mimetype": "text/x-python",
   "name": "python",
   "nbconvert_exporter": "python",
   "pygments_lexer": "ipython3",
   "version": "3.8.8"
  }
 },
 "nbformat": 4,
 "nbformat_minor": 5
}
