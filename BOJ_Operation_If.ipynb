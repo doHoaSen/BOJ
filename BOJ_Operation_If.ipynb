{
 "cells": [
  {
   "cell_type": "markdown",
   "id": "2f0e4260",
   "metadata": {},
   "source": [
    "# 입출력과 사칙연산\n",
    "## 2022.03.21"
   ]
  },
  {
   "cell_type": "code",
   "execution_count": 8,
   "id": "926f5d39",
   "metadata": {},
   "outputs": [
    {
     "name": "stdout",
     "output_type": "stream",
     "text": [
      "\\    /\\\n",
      " )  ( ')\n",
      "(  /  )\n",
      " \\(__)|\n"
     ]
    }
   ],
   "source": [
    "#10171 고양이\n",
    "print(\"\"\"\\\\    /\\\\\n",
    " )  ( ')\n",
    "(  /  )\n",
    " \\\\(__)|\"\"\")"
   ]
  },
  {
   "cell_type": "code",
   "execution_count": 11,
   "id": "664242ce",
   "metadata": {},
   "outputs": [
    {
     "name": "stdout",
     "output_type": "stream",
     "text": [
      "|\\_/|\n",
      "|q p|   /}\n",
      "( 0 )\"\"\"\\\n",
      "|\"^\"`    |\n",
      "||_/=\\\\__|\n"
     ]
    }
   ],
   "source": [
    "#10172 개\n",
    "print(\"\"\"|\\\\_/|\n",
    "|q p|   /}\n",
    "( 0 )\\\"\\\"\\\"\\\\\n",
    "|\\\"^\\\"`    |\n",
    "||_/=\\\\\\\\__|\"\"\")"
   ]
  },
  {
   "cell_type": "code",
   "execution_count": 14,
   "id": "1e0dd0ff",
   "metadata": {},
   "outputs": [
    {
     "name": "stdout",
     "output_type": "stream",
     "text": [
      "1 4\n",
      "5\n"
     ]
    }
   ],
   "source": [
    "#1000 A + B\n",
    "A, B = input().split(' ')\n",
    "print(int(A) + int(B))"
   ]
  },
  {
   "cell_type": "code",
   "execution_count": 1,
   "id": "9506fda6",
   "metadata": {},
   "outputs": [
    {
     "name": "stdout",
     "output_type": "stream",
     "text": [
      "joonas\n",
      "joonas??!\n"
     ]
    }
   ],
   "source": [
    "#10926\n",
    "name = input()\n",
    "print(name + \"??!\")"
   ]
  },
  {
   "cell_type": "code",
   "execution_count": 2,
   "id": "014c8388",
   "metadata": {},
   "outputs": [
    {
     "name": "stdout",
     "output_type": "stream",
     "text": [
      "2541\n",
      "1998\n"
     ]
    }
   ],
   "source": [
    "#18108\n",
    "t_year = int(input())\n",
    "year = t_year - 543\n",
    "print(year)"
   ]
  },
  {
   "cell_type": "code",
   "execution_count": 6,
   "id": "6da204dc",
   "metadata": {},
   "outputs": [
    {
     "name": "stdout",
     "output_type": "stream",
     "text": [
      "5 8 4\n",
      "1\n",
      "1\n",
      "0\n",
      "0\n"
     ]
    }
   ],
   "source": [
    "#10430\n",
    "A, B, C = map(int, input().split())\n",
    "print((A + B) % C)\n",
    "print(((A % C) + (B % C)) % C)\n",
    "print((A * B) % C)\n",
    "print(((A % C) * (B % C)) % C)"
   ]
  },
  {
   "cell_type": "markdown",
   "id": "f15dae7b",
   "metadata": {},
   "source": [
    "#### 10430번 문제의 의미\n",
    "분배법칙, 결합법칙이 성립함"
   ]
  },
  {
   "cell_type": "code",
   "execution_count": 8,
   "id": "a9b3c410",
   "metadata": {},
   "outputs": [
    {
     "name": "stdout",
     "output_type": "stream",
     "text": [
      "472\n",
      "385\n",
      "2360\n",
      "3776\n",
      "1416\n",
      "181720\n"
     ]
    }
   ],
   "source": [
    "#2588\n",
    "num1 = int(input())\n",
    "num2 = input()\n",
    "p1 = num1 * int(num2[-1])\n",
    "p2 = num1 * int(num2[-2])\n",
    "p3 = num1 * int(num2[-3])\n",
    "print(p1, p2, p3, sep= \"\\n\")\n",
    "\n",
    "result = p1 + p2 * 10 + p3 * 100\n",
    "print(result)"
   ]
  },
  {
   "cell_type": "markdown",
   "id": "9e30e814",
   "metadata": {},
   "source": [
    "# IF 조건문"
   ]
  },
  {
   "cell_type": "markdown",
   "id": "7f079eed",
   "metadata": {},
   "source": [
    "## 2022.03.21"
   ]
  },
  {
   "cell_type": "code",
   "execution_count": 9,
   "id": "ffdefce7",
   "metadata": {},
   "outputs": [
    {
     "name": "stdout",
     "output_type": "stream",
     "text": [
      "1 2\n",
      "<\n"
     ]
    }
   ],
   "source": [
    "#1330\n",
    "A, B = map(int, input().split())\n",
    "\n",
    "if A > B:\n",
    "    print(\">\")\n",
    "elif A < B:\n",
    "    print(\"<\")\n",
    "else:\n",
    "    print(\"==\")"
   ]
  },
  {
   "cell_type": "code",
   "execution_count": 11,
   "id": "f6171d27",
   "metadata": {},
   "outputs": [
    {
     "name": "stdout",
     "output_type": "stream",
     "text": [
      "88\n",
      "B\n"
     ]
    }
   ],
   "source": [
    "#9498\n",
    "score = int(input())\n",
    "\n",
    "if score >= 90 and score <= 100:\n",
    "    print(\"A\")\n",
    "elif score >= 80:\n",
    "    print(\"B\")\n",
    "elif score >= 70:\n",
    "    print(\"C\")\n",
    "elif score >= 60:\n",
    "    print(\"D\")\n",
    "else:\n",
    "    print(\"F\")"
   ]
  },
  {
   "cell_type": "code",
   "execution_count": 1,
   "id": "79882de1",
   "metadata": {},
   "outputs": [
    {
     "name": "stdout",
     "output_type": "stream",
     "text": [
      "2000\n",
      "1\n"
     ]
    }
   ],
   "source": [
    "#2753\n",
    "year = int(input())\n",
    "if year % 4 == 0 and year % 100 != 0 or year % 400 == 0:\n",
    "    print(\"1\")\n",
    "else:\n",
    "    print(\"0\")"
   ]
  },
  {
   "cell_type": "markdown",
   "id": "18792b46",
   "metadata": {},
   "source": [
    "# 2022.03.22"
   ]
  },
  {
   "cell_type": "code",
   "execution_count": 2,
   "id": "45e4db2f",
   "metadata": {},
   "outputs": [
    {
     "name": "stdout",
     "output_type": "stream",
     "text": [
      "9\n",
      "-13\n",
      "4\n"
     ]
    }
   ],
   "source": [
    "#14681 \n",
    "numx = int(input())\n",
    "numy = int(input())\n",
    "\n",
    "\n",
    "if numx > 0:\n",
    "    if numy > 0:\n",
    "        print(1)\n",
    "    elif numy < 0:\n",
    "        print(4)\n",
    "elif numx < 0:\n",
    "    if numy > 0:\n",
    "        print(2)\n",
    "    elif numy <0:\n",
    "        print(3)"
   ]
  },
  {
   "cell_type": "code",
   "execution_count": 4,
   "id": "de294ccc",
   "metadata": {},
   "outputs": [
    {
     "name": "stdout",
     "output_type": "stream",
     "text": [
      "0 30\n",
      "23 45\n"
     ]
    }
   ],
   "source": [
    "#2884\n",
    "hour, min = map(int, input().split())\n",
    "\n",
    "if min >= 45:\n",
    "    print(hour, min - 45)\n",
    "else:\n",
    "    if hour != 0:\n",
    "        print(hour-1, min + 60 - 45)\n",
    "    else:\n",
    "        print(23, min + 60 - 45)"
   ]
  },
  {
   "cell_type": "code",
   "execution_count": 8,
   "id": "2d1f5c5c",
   "metadata": {},
   "outputs": [
    {
     "name": "stdout",
     "output_type": "stream",
     "text": [
      "23 48\n",
      "25\n",
      "0 13\n"
     ]
    }
   ],
   "source": [
    "#2525\n",
    "hour, min = map(int, input().split())\n",
    "timer = int(input())\n",
    "\n",
    "total = min + timer\n",
    "if total < 60:\n",
    "    print(hour, total)\n",
    "else:\n",
    "    hour, min = hour + total // 60, total % 60\n",
    "    if hour >= 24:\n",
    "        print(hour - 24, min)\n",
    "    else:\n",
    "        print(hour, min)"
   ]
  },
  {
   "cell_type": "code",
   "execution_count": 3,
   "id": "e3e988cf",
   "metadata": {},
   "outputs": [
    {
     "name": "stdout",
     "output_type": "stream",
     "text": [
      "6 2 5\n",
      "600\n"
     ]
    }
   ],
   "source": [
    "#2480\n",
    "num1, num2, num3 = map(int, input().split())\n",
    "\n",
    "if num1 == num2 and num2 == num3:\n",
    "    price = 10000 + num1 * 1000\n",
    "    print(price)\n",
    "elif num1 == num2 and num1 != num3:\n",
    "    price = 1000 + num1 * 100\n",
    "    print(price)\n",
    "elif num2 == num3 and num2 != num1:\n",
    "    price = 1000 + num2 * 100\n",
    "    print(price)\n",
    "elif num1 == num3 and num1 != num2:\n",
    "    price = 1000 + num1 * 100\n",
    "    print(price)\n",
    "else:\n",
    "    if num1 > num2 and num1 > num3:\n",
    "        price = num1 * 100\n",
    "        print(price)\n",
    "    elif num2 > num1 and num2 > num3:\n",
    "        price = num2 * 100\n",
    "        print(price)\n",
    "    elif num3 > num1 and num3 > num2:\n",
    "        price = num3 * 100\n",
    "        print(price)"
   ]
  },
  {
   "cell_type": "code",
   "execution_count": null,
   "id": "44265d00",
   "metadata": {},
   "outputs": [],
   "source": []
  }
 ],
 "metadata": {
  "kernelspec": {
   "display_name": "Python 3",
   "language": "python",
   "name": "python3"
  },
  "language_info": {
   "codemirror_mode": {
    "name": "ipython",
    "version": 3
   },
   "file_extension": ".py",
   "mimetype": "text/x-python",
   "name": "python",
   "nbconvert_exporter": "python",
   "pygments_lexer": "ipython3",
   "version": "3.8.8"
  }
 },
 "nbformat": 4,
 "nbformat_minor": 5
}
